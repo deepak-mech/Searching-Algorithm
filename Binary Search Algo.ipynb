{
 "cells": [
  {
   "cell_type": "markdown",
   "metadata": {},
   "source": [
    "### Write the algorithm in plain english(psuedo code).\n",
    "**Assuming data is sorted in ascending order**\n",
    "- start = 0\n",
    "- last = len(data) - 1\n",
    "- middle = int((start + last)/2)\n",
    "- if val(middle) == query, return middle\n",
    "- if val(middle) > query, result will lie on left side: last = middle - 1\n",
    "- if val(middle) < query, result will lie on right side: start = middle + 1\n",
    "- if query not in the list(data), return -1.\n",
    "\n"
   ]
  },
  {
   "cell_type": "code",
   "execution_count": 43,
   "metadata": {},
   "outputs": [],
   "source": [
    "# Binary Search Algo\n",
    "\n",
    "def find_pos(data, query):\n",
    "    start = 0\n",
    "    last = len(data) - 1\n",
    "    print(\"length:\", len(data), \"query:\", query)\n",
    "    \n",
    "    while start <= last:\n",
    "        mid = (start + last)//2\n",
    "        \n",
    "        print(\"start:\", start, \"last:\", last, \"mid:\", mid, \"mid_no.:\", data[mid])\n",
    "        \n",
    "        if data[mid] == query:\n",
    "            print(\"value:\",data[mid])\n",
    "            return mid\n",
    "        \n",
    "        elif data[mid] > query:\n",
    "            last = mid - 1\n",
    "            \n",
    "        elif data[mid] < query:\n",
    "            start = mid + 1\n",
    "            \n",
    "    return -1"
   ]
  },
  {
   "cell_type": "code",
   "execution_count": 44,
   "metadata": {},
   "outputs": [],
   "source": [
    "tests = []"
   ]
  },
  {
   "cell_type": "code",
   "execution_count": 45,
   "metadata": {},
   "outputs": [],
   "source": [
    "# query at end\n",
    "tests.append({\n",
    "    'input': {\n",
    "        'data': [1,2,3,4,5,6],\n",
    "        'query': 6\n",
    "    },\n",
    "    'output': 5\n",
    "})"
   ]
  },
  {
   "cell_type": "code",
   "execution_count": 46,
   "metadata": {},
   "outputs": [],
   "source": [
    "# query in mid\n",
    "tests.append({\n",
    "    'input': {\n",
    "        'data': [2,4,6,8,10],\n",
    "        'query': 6\n",
    "    },\n",
    "    'output': 2\n",
    "})"
   ]
  },
  {
   "cell_type": "code",
   "execution_count": 47,
   "metadata": {},
   "outputs": [],
   "source": [
    "# list don't have query\n",
    "tests.append({\n",
    "    'input': {\n",
    "        'data': [],\n",
    "        'query': 6\n",
    "    },\n",
    "    'output': -1\n",
    "})"
   ]
  },
  {
   "cell_type": "code",
   "execution_count": 48,
   "metadata": {},
   "outputs": [],
   "source": [
    "# query occurs multiple times\n",
    "tests.append({\n",
    "    'input': {\n",
    "        'data': [2,4,6,6,6,8,10],\n",
    "        'query': 6\n",
    "    },\n",
    "    'output': 2\n",
    "})"
   ]
  },
  {
   "cell_type": "code",
   "execution_count": 49,
   "metadata": {},
   "outputs": [
    {
     "data": {
      "text/plain": [
       "[{'input': {'data': [1, 2, 3, 4, 5, 6], 'query': 6}, 'output': 5},\n",
       " {'input': {'data': [2, 4, 6, 8, 10], 'query': 6}, 'output': 2},\n",
       " {'input': {'data': [], 'query': 6}, 'output': -1},\n",
       " {'input': {'data': [2, 4, 6, 6, 6, 8, 10], 'query': 6}, 'output': 2}]"
      ]
     },
     "execution_count": 49,
     "metadata": {},
     "output_type": "execute_result"
    }
   ],
   "source": [
    "tests"
   ]
  },
  {
   "cell_type": "code",
   "execution_count": 50,
   "metadata": {},
   "outputs": [],
   "source": [
    "from jovian.pythondsa import evaluate_test_cases"
   ]
  },
  {
   "cell_type": "code",
   "execution_count": 51,
   "metadata": {},
   "outputs": [
    {
     "name": "stdout",
     "output_type": "stream",
     "text": [
      "\n",
      "\u001b[1mTEST CASE #0\u001b[0m\n",
      "length: 6 query: 6\n",
      "start: 0 last: 5 mid: 2 mid_no.: 3\n",
      "start: 3 last: 5 mid: 4 mid_no.: 5\n",
      "start: 5 last: 5 mid: 5 mid_no.: 6\n",
      "value: 6\n",
      "\n",
      "Input:\n",
      "{'data': [1, 2, 3, 4, 5, 6], 'query': 6}\n",
      "\n",
      "Expected Output:\n",
      "5\n",
      "\n",
      "\n",
      "Actual Output:\n",
      "5\n",
      "\n",
      "Execution Time:\n",
      "1.873 ms\n",
      "\n",
      "Test Result:\n",
      "\u001b[92mPASSED\u001b[0m\n",
      "\n",
      "\n",
      "\u001b[1mTEST CASE #1\u001b[0m\n",
      "length: 5 query: 6\n",
      "start: 0 last: 4 mid: 2 mid_no.: 6\n",
      "value: 6\n",
      "\n",
      "Input:\n",
      "{'data': [2, 4, 6, 8, 10], 'query': 6}\n",
      "\n",
      "Expected Output:\n",
      "2\n",
      "\n",
      "\n",
      "Actual Output:\n",
      "2\n",
      "\n",
      "Execution Time:\n",
      "0.891 ms\n",
      "\n",
      "Test Result:\n",
      "\u001b[92mPASSED\u001b[0m\n",
      "\n",
      "\n",
      "\u001b[1mTEST CASE #2\u001b[0m\n",
      "length: 0 query: 6\n",
      "\n",
      "Input:\n",
      "{'data': [], 'query': 6}\n",
      "\n",
      "Expected Output:\n",
      "-1\n",
      "\n",
      "\n",
      "Actual Output:\n",
      "-1\n",
      "\n",
      "Execution Time:\n",
      "0.254 ms\n",
      "\n",
      "Test Result:\n",
      "\u001b[92mPASSED\u001b[0m\n",
      "\n",
      "\n",
      "\u001b[1mTEST CASE #3\u001b[0m\n",
      "length: 7 query: 6\n",
      "start: 0 last: 6 mid: 3 mid_no.: 6\n",
      "value: 6\n",
      "\n",
      "Input:\n",
      "{'data': [2, 4, 6, 6, 6, 8, 10], 'query': 6}\n",
      "\n",
      "Expected Output:\n",
      "2\n",
      "\n",
      "\n",
      "Actual Output:\n",
      "3\n",
      "\n",
      "Execution Time:\n",
      "1.359 ms\n",
      "\n",
      "Test Result:\n",
      "\u001b[91mFAILED\u001b[0m\n",
      "\n",
      "\n",
      "\u001b[1mSUMMARY\u001b[0m\n",
      "\n",
      "TOTAL: 4, \u001b[92mPASSED\u001b[0m: 3, \u001b[91mFAILED\u001b[0m: 1\n"
     ]
    },
    {
     "data": {
      "text/plain": [
       "[(5, True, 1.873), (2, True, 0.891), (-1, True, 0.254), (3, False, 1.359)]"
      ]
     },
     "execution_count": 51,
     "metadata": {},
     "output_type": "execute_result"
    }
   ],
   "source": [
    "evaluate_test_cases(find_pos, tests)"
   ]
  },
  {
   "cell_type": "code",
   "execution_count": 53,
   "metadata": {},
   "outputs": [],
   "source": [
    "# fixing issue: define one more function \n",
    "def test_pos(data,query,mid):\n",
    "    if data[mid] == query:\n",
    "        if mid-1 > 0 and data[mid-1] == query:\n",
    "            return 'left'\n",
    "        else: \n",
    "            return 'found'\n",
    "        \n",
    "    elif data[mid] < query:\n",
    "            return 'right'\n",
    "        \n",
    "    else:\n",
    "        return 'right'"
   ]
  },
  {
   "cell_type": "code",
   "execution_count": 54,
   "metadata": {},
   "outputs": [],
   "source": [
    "# call one function inside another\n",
    "def find_pos(data, query):\n",
    "    start = 0\n",
    "    last = len(data) - 1\n",
    "    \n",
    "    while start <= last:\n",
    "        mid = (start + last)//2\n",
    "        \n",
    "        result = test_pos(data, query, mid)\n",
    "                \n",
    "        if result == 'found':\n",
    "            return mid\n",
    "        \n",
    "        elif result == 'left':\n",
    "            last = mid - 1\n",
    "            \n",
    "        elif result == 'right':\n",
    "            start = mid + 1\n",
    "            \n",
    "    return -1"
   ]
  },
  {
   "cell_type": "code",
   "execution_count": 55,
   "metadata": {},
   "outputs": [
    {
     "name": "stdout",
     "output_type": "stream",
     "text": [
      "\n",
      "\u001b[1mTEST CASE #0\u001b[0m\n",
      "\n",
      "Input:\n",
      "{'data': [1, 2, 3, 4, 5, 6], 'query': 6}\n",
      "\n",
      "Expected Output:\n",
      "5\n",
      "\n",
      "\n",
      "Actual Output:\n",
      "5\n",
      "\n",
      "Execution Time:\n",
      "0.014 ms\n",
      "\n",
      "Test Result:\n",
      "\u001b[92mPASSED\u001b[0m\n",
      "\n",
      "\n",
      "\u001b[1mTEST CASE #1\u001b[0m\n",
      "\n",
      "Input:\n",
      "{'data': [2, 4, 6, 8, 10], 'query': 6}\n",
      "\n",
      "Expected Output:\n",
      "2\n",
      "\n",
      "\n",
      "Actual Output:\n",
      "2\n",
      "\n",
      "Execution Time:\n",
      "0.013 ms\n",
      "\n",
      "Test Result:\n",
      "\u001b[92mPASSED\u001b[0m\n",
      "\n",
      "\n",
      "\u001b[1mTEST CASE #2\u001b[0m\n",
      "\n",
      "Input:\n",
      "{'data': [], 'query': 6}\n",
      "\n",
      "Expected Output:\n",
      "-1\n",
      "\n",
      "\n",
      "Actual Output:\n",
      "-1\n",
      "\n",
      "Execution Time:\n",
      "0.008 ms\n",
      "\n",
      "Test Result:\n",
      "\u001b[92mPASSED\u001b[0m\n",
      "\n",
      "\n",
      "\u001b[1mTEST CASE #3\u001b[0m\n",
      "\n",
      "Input:\n",
      "{'data': [2, 4, 6, 6, 6, 8, 10], 'query': 6}\n",
      "\n",
      "Expected Output:\n",
      "2\n",
      "\n",
      "\n",
      "Actual Output:\n",
      "2\n",
      "\n",
      "Execution Time:\n",
      "0.012 ms\n",
      "\n",
      "Test Result:\n",
      "\u001b[92mPASSED\u001b[0m\n",
      "\n",
      "\n",
      "\u001b[1mSUMMARY\u001b[0m\n",
      "\n",
      "TOTAL: 4, \u001b[92mPASSED\u001b[0m: 4, \u001b[91mFAILED\u001b[0m: 0\n"
     ]
    },
    {
     "data": {
      "text/plain": [
       "[(5, True, 0.014), (2, True, 0.013), (-1, True, 0.008), (2, True, 0.012)]"
      ]
     },
     "execution_count": 55,
     "metadata": {},
     "output_type": "execute_result"
    }
   ],
   "source": [
    "evaluate_test_cases(find_pos, tests)"
   ]
  },
  {
   "cell_type": "code",
   "execution_count": null,
   "metadata": {},
   "outputs": [],
   "source": []
  },
  {
   "cell_type": "markdown",
   "metadata": {},
   "source": [
    "**Time Complexity**: `O(logn)`\n",
    "\n",
    "**Space Complexity**: `O(1)`"
   ]
  },
  {
   "cell_type": "code",
   "execution_count": null,
   "metadata": {},
   "outputs": [],
   "source": []
  }
 ],
 "metadata": {
  "kernelspec": {
   "display_name": "Python 3.8.2 32-bit",
   "language": "python",
   "name": "python38232bit9811cca526404bae81c368bda5635cb4"
  },
  "language_info": {
   "codemirror_mode": {
    "name": "ipython",
    "version": 3
   },
   "file_extension": ".py",
   "mimetype": "text/x-python",
   "name": "python",
   "nbconvert_exporter": "python",
   "pygments_lexer": "ipython3",
   "version": "3.8.2"
  }
 },
 "nbformat": 4,
 "nbformat_minor": 4
}
